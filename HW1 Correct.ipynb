{
 "cells": [
  {
   "cell_type": "markdown",
   "metadata": {},
   "source": [
    "## Finance 5350 - Fall 2018\n",
    "## Homework 1\n",
    "\n",
    "**DUE: Some Future Date (TBA)**\n",
    "\n",
    "\n",
    "This homework is all about putting to use your knowledge of `Python` from the different building blocks that you have seen so far.\n",
    "\n",
    "We will be talking about these problems and I will give lots of hints in class!\n",
    "\n"
   ]
  },
  {
   "cell_type": "markdown",
   "metadata": {},
   "source": [
    "### Problem 1\n",
    "\n",
    "This problem is known as the *chicken nuggets* problem. It goes like this: you walk into Chick Fil-A with an unlimited amount of money (and appetite!). You can purchase nuggets in containers of 6, 9, and 20.\n",
    "\n",
    "Write a program to tell you the ***highest*** number of nuggets that you ***cannot*** purchase! Re-read that just in case it went past you the first time! The highest number that you cannot get. For example, you can get 15 nuggets by purchasing and box of 6 and a box of 9 nuggets. You can get 18 by purchasing 2 boxes of 9 nuggets. But with no combination of 6, 9, and 20 can you purchase 17 nuggets. What is the highest number that you cannot get?!\n",
    "\n",
    "This simple game will give you experience assembling different bits of `Python` programming to find the solution. It will also employ a very simple numerical method called *brute force* search. \n",
    "\n",
    "Please write your solution in the code cell below:"
   ]
  },
  {
   "cell_type": "code",
   "execution_count": 4,
   "metadata": {
    "collapsed": false
   },
   "outputs": [
    {
     "name": "stdout",
     "output_type": "stream",
     "text": [
      "The largest size that you cannot get is: 43\n"
     ]
    }
   ],
   "source": [
    "def is_nugget_number(candidate, SIX = 6, NINE = 9, TWENTY = 20):\n",
    "    for i in range(candidate//SIX + 1):\n",
    "        for j in range(candidate//NINE + 1):\n",
    "            for k in range(candidate//TWENTY + 1):\n",
    "                if(candidate == i * SIX + j * NINE + k * TWENTY):\n",
    "                    return True\n",
    "    \n",
    "    return False\n",
    "\n",
    "\n",
    "\n",
    "sizes = {'S' : 6, 'M' : 9, 'L': 20}\n",
    "SIX = 6\n",
    "count = 0\n",
    "largest = 0\n",
    "candidate = SIX\n",
    "\n",
    "while count < SIX:\n",
    "    if(is_nugget_number(candidate)):\n",
    "        count += 1\n",
    "    else:\n",
    "        largest = candidate\n",
    "        count = 0\n",
    "    candidate += 1\n",
    "        \n",
    "print(\"The largest size that you cannot get is: {0}\".format(largest))\n",
    "    \n"
   ]
  },
  {
   "cell_type": "markdown",
   "metadata": {},
   "source": [
    "### Problem 2\n",
    "\n",
    "In the book **[Python Programming for the Absolute Beginner, 3rd Edition](http://goo.gl/7PGr9r)** the author teaches `Python` through some simple game programming. One of the first games that he shows how to write is the so-called ***Guess My Number*** game, which is the children's game of guessing some one's secret number (a number between 1 and 100). \n",
    "\n",
    "An implementation of the game in `Python` might look something like this:"
   ]
  },
  {
   "cell_type": "code",
   "execution_count": null,
   "metadata": {
    "collapsed": false
   },
   "outputs": [],
   "source": [
    "import random\n",
    "\n",
    "print(\"Hello human!\\nThis is your wondrous computer.\\nLets play a game to show how dominant my computer skills are.\\nThink of a number between 1 and 100.\\nI will try to guess your number in 7 tries or less.\")\n",
    "higher = 101\n",
    "lower = 0\n",
    "count = 1\n",
    "guess = random.randint(1,100)\n",
    "\n",
    "while higher > lower:\n",
    "    if count < 8:\n",
    "        print(\"My guess is \", guess)\n",
    "        response = input()\n",
    "        if response ==\"h\":\n",
    "            lower = guess \n",
    "            mide = (higher - lower)//2\n",
    "            guess = lower + mid\n",
    "        if response == \"l\":\n",
    "            higher = guess \n",
    "            mid = (higher - lower)//2\n",
    "            guess = higher - mid\n",
    "        if response ==\"c\":\n",
    "            if count == 1:\n",
    "                print(\"Guessed it in a single try, I am the greatest!\")\n",
    "            elif count < 6:\n",
    "                print(\"I am a pretty good guesser! I guessed it in\", count,\"tries. Told you I would win!\")\n",
    "            else:\n",
    "                print(\"I win! It took me\", count,\"tries. I usually do better than this. Well played.\")\n",
    "            break\n",
    "        count +=1\n",
    "    else:\n",
    "        print(\"I lose. You have proven humans are dominant to computers still. Great Job!\")\n",
    "        break"
   ]
  },
  {
   "cell_type": "markdown",
   "metadata": {},
   "source": [
    "Make sure you understand each bit of the above program! Study it, play with it, pick it apart, re-write on  your own computer in Spyder. **Remember: Programming is a full contact sport! You have to do it to learn it!!!**"
   ]
  },
  {
   "cell_type": "markdown",
   "metadata": {},
   "source": [
    "Your task in this problem is to now write a version of the *Guess My Number* game where you and the computer switch roles! That is right: you think of a number and the computer must guess it in as few attempts as possible. You will need to encode your guessing logic to the program solution.\n",
    "\n",
    "This might seem like silly game play, but in order to solve the problem you must use an algorithm called **binary search** or the **bisection method** to solve the problem correctly. This is our first attempt at programming a simple algorithm. We will see this algorithm later in the context of the ***Black-Scholes-Merton Option Pricing Model*** to calculate the implied volatility of the model. This is something that options traders do thousands and thousands of times a day!\n",
    "\n",
    "Please use the code cell below to write your solution:"
   ]
  },
  {
   "cell_type": "code",
   "execution_count": 1,
   "metadata": {
    "collapsed": false
   },
   "outputs": [
    {
     "name": "stdout",
     "output_type": "stream",
     "text": [
      "Hello human!\n",
      "This is your wondrous computer.\n",
      "Lets play a game to show how dominant my computer skills are.\n",
      "Think of a number between 1 and 100.\n",
      "I will try to guess your number in 7 tries or less.\n",
      "My guess is  75\n",
      "My guess is  38\n",
      "My guess is  19\n",
      "My guess is  10\n",
      "My guess is  5\n",
      "My guess is  3\n",
      "My guess is  2\n",
      "I lose. You have proven humans are dominant to computers still. Great Job!\n"
     ]
    }
   ],
   "source": [
    "import random\n",
    "\n",
    "print(\"Hello human!\\nThis is your wondrous computer.\\nLets play a game to show how dominant my computer skills are.\\nThink of a number between 1 and 100.\\nI will try to guess your number in 7 tries or less.\")\n",
    "higher = 101\n",
    "lower = 0\n",
    "count = 1\n",
    "guess = random.randint(1,100)\n",
    "\n",
    "while higher > lower:\n",
    "    if count < 8:\n",
    "        print(\"My guess is \", guess)\n",
    "        response = input()\n",
    "        if response == \"higher\":\n",
    "            lower = guess \n",
    "            guess = lower + (higher - lower)//2\n",
    "        if response == \"lower\":\n",
    "            higher = guess \n",
    "            guess = higher - (higher - lower)//2\n",
    "        if response == \"correct\":\n",
    "            if count == 1:\n",
    "                print(\"Guessed it in a single try, I am the greatest!\")\n",
    "            elif count < 6:\n",
    "                print(\"I am a pretty good guesser! I guessed it in\", count,\"tries. Told you I would win!\")\n",
    "            else:\n",
    "                print(\"I win! It took me\", count,\"tries. I usually do better than this. Well played.\")\n",
    "            break\n",
    "        count +=1\n",
    "    else:\n",
    "        print(\"I lose. You have proven humans are dominant to computers still. Great Job!\")\n",
    "        break"
   ]
  },
  {
   "cell_type": "code",
   "execution_count": null,
   "metadata": {
    "collapsed": false
   },
   "outputs": [],
   "source": []
  },
  {
   "cell_type": "code",
   "execution_count": null,
   "metadata": {},
   "outputs": [],
   "source": []
  }
 ],
 "metadata": {
  "anaconda-cloud": {},
  "kernelspec": {
   "display_name": "Python 3",
   "language": "python",
   "name": "python3"
  },
  "language_info": {
   "codemirror_mode": {
    "name": "ipython",
    "version": 3
   },
   "file_extension": ".py",
   "mimetype": "text/x-python",
   "name": "python",
   "nbconvert_exporter": "python",
   "pygments_lexer": "ipython3",
   "version": "3.6.5"
  }
 },
 "nbformat": 4,
 "nbformat_minor": 2
}
