{
 "cells": [
  {
   "cell_type": "markdown",
   "metadata": {},
   "source": [
    "#### __HOMEWORK 2__"
   ]
  },
  {
   "cell_type": "markdown",
   "metadata": {},
   "source": [
    "##### __Problem 1__"
   ]
  },
  {
   "cell_type": "markdown",
   "metadata": {},
   "source": [
    "Let $S = \\$100$, $K = \\$105$, $r = 8\\%$, $T = 0.5$, and $\\delta = 0.0$. Let $u = 1.3$, $d = 0.8$, and $n = 1$."
   ]
  },
  {
   "cell_type": "markdown",
   "metadata": {},
   "source": [
    "What are the premium, $\\Delta$, and $B$ for a European call?  \n",
    "What are the premium, $\\Delta$, and $B$ for a European put?\n"
   ]
  },
  {
   "cell_type": "code",
   "execution_count": null,
   "metadata": {},
   "outputs": [],
   "source": [
    "def euroBinomPricerRecursive(S, K, r, v, q, T, n, payoff, verbose = True):\n",
    "    \n",
    "    nodes = n + 1\n",
    "    h = T / n\n",
    "    u = np.exp((r - q) * h + v * np.sqrt(h))\n",
    "    d = np.exp((r - q) * h - v * np.sqrt(h))\n",
    "    pu = (np.exp((r - q) * h) - d) / (u - d)\n",
    "    pd = 1.0 - pu\n",
    "    disc = np.exp(-r * h)\n",
    "    \n",
    "    \n",
    "    ## Arrays to store the spot prices and option values\n",
    "    Ct = np.empty(nodes)\n",
    "    St = np.empty(nodes)\n",
    "    \n",
    "    for i in range(nodes):\n",
    "        St[i] = S * (u ** (n - i)) * (d ** i)\n",
    "        Ct[i] = payoff(St[i], K)\n",
    "    \n",
    "    if verbose:\n",
    "        print(Ct)\n",
    "        \n",
    "    for t in range((n - 1), -1, -1):\n",
    "        for j in range(t+1):\n",
    "            Ct[j] = disc * (pu * Ct[j] + pd * Ct[j+1])\n",
    "            # St[j] = St[j] / u\n",
    "            # Ct[j] = np.maximum(Ct[j], early payoff)\n",
    "            print(Ct)\n",
    "            \n",
    "    return Ct[0]"
   ]
  },
  {
   "cell_type": "code",
   "execution_count": 14,
   "metadata": {},
   "outputs": [],
   "source": [
    "import numpy as np\n",
    "from scipy.stats import binom\n",
    "\n",
    "def callPayoff(spot, strike):\n",
    "    return np.maximum(spot - strike, 0.0)\n",
    "\n",
    "## Put Payoff Function\n",
    "def putPayoff(spot, strike):\n",
    "    return np.maximum(strike - spot, 0.0)"
   ]
  },
  {
   "cell_type": "markdown",
   "metadata": {},
   "source": [
    "#### __The Simplified European Binomial Pricer__"
   ]
  },
  {
   "cell_type": "code",
   "execution_count": 2,
   "metadata": {},
   "outputs": [],
   "source": [
    "def euroBinomPricer(S, K, r, v, q, T, n, payoff, verbose = True):\n",
    "    nodes = n  + 1\n",
    "    h = T / n\n",
    "    u = np.exp((r - q) * h + v * np.sqrt(h))\n",
    "    d = np.exp((r - q) * h - v * np.sqrt(h))\n",
    "    pstar = (np.exp((r - q) * h) - d) / (u - d)\n",
    "    \n",
    "    price = 0.0\n",
    "    \n",
    "    for i in range(nodes):\n",
    "        prob = binom.pmf(i, n, pstar)\n",
    "        spotT = S * (u ** i) * (d ** (n - i))\n",
    "        po = payoff(spotT, K) \n",
    "        price += po * prob\n",
    "        if verbose:\n",
    "            print(f\"({spotT:0.4f}, {po:0.4f}, {prob:0.4f})\")\n",
    "        \n",
    "    price *= np.exp(-r * T)\n",
    "    \n",
    "    return price"
   ]
  },
  {
   "cell_type": "code",
   "execution_count": 3,
   "metadata": {},
   "outputs": [
    {
     "name": "stdout",
     "output_type": "stream",
     "text": [
      "(26.4157, 13.5843, 0.1603)\n",
      "(37.3513, 2.6487, 0.4044)\n",
      "(52.8140, 0.0000, 0.3400)\n",
      "(74.6781, 0.0000, 0.0953)\n",
      "The European Put Premium:  2.999\n"
     ]
    }
   ],
   "source": [
    "S = 41.0\n",
    "K = 40.0\n",
    "r = 0.08\n",
    "v = 0.30\n",
    "q = 0.0\n",
    "T = 1.0\n",
    "n = 3\n",
    "\n",
    "putPrc = euroBinomPricer(S, K, r, v, q, T, n, putPayoff, verbose = True)\n",
    "print(f\"The European Put Premium: {putPrc : 0.3f}\")"
   ]
  },
  {
   "cell_type": "markdown",
   "metadata": {},
   "source": [
    "### The Full Recursive Solution for the European Binomial Model"
   ]
  },
  {
   "cell_type": "code",
   "execution_count": 5,
   "metadata": {},
   "outputs": [],
   "source": [
    "def euroBinomPricerRecursive(S, K, r, v, q, T, n, payoff, verbose = True):\n",
    "    nodes = n  + 1\n",
    "    h = T / n\n",
    "    u = np.exp((r - q) * h + v * np.sqrt(h))\n",
    "    d = np.exp((r - q) * h - v * np.sqrt(h))\n",
    "    pu = (np.exp((r - q) * h) - d) / (u - d)\n",
    "    pd = 1.0 - pu\n",
    "    disc = np.exp(-r * h)\n",
    "    \n",
    "    \n",
    "    ## Arrays to store the spot prices and option values\n",
    "    Ct = np.empty(nodes)\n",
    "    St = np.empty(nodes)\n",
    "    \n",
    "    for i in range(nodes):\n",
    "        St[i] = S * (u ** (n - i)) * (d ** i)\n",
    "        Ct[i] = payoff(St[i], K)\n",
    "    \n",
    "    if verbose:\n",
    "        print(Ct)\n",
    "        \n",
    "    for t in range((n - 1), -1, -1):\n",
    "        for j in range(t+1):\n",
    "            Ct[j] = disc * (pu * Ct[j] + pd * Ct[j+1])\n",
    "            # St[j] = St[j] / u\n",
    "            # Ct[j] = np.maximum(Ct[j], early payoff)\n",
    "            print(Ct)\n",
    "            \n",
    "    return Ct[0]\n",
    "            \n",
    "    "
   ]
  },
  {
   "cell_type": "code",
   "execution_count": 6,
   "metadata": {},
   "outputs": [
    {
     "name": "stdout",
     "output_type": "stream",
     "text": [
      "[ 0.          0.          2.6487273  13.58434506]\n",
      "[ 0.          0.          2.6487273  13.58434506]\n",
      "[ 0.          1.40091085  2.6487273  13.58434506]\n",
      "[ 0.          1.40091085  8.36287205 13.58434506]\n",
      "[ 0.74094121  1.40091085  8.36287205 13.58434506]\n",
      "[ 0.74094121  5.04622553  8.36287205 13.58434506]\n",
      "[ 2.99850712  5.04622553  8.36287205 13.58434506]\n"
     ]
    },
    {
     "data": {
      "text/plain": [
       "2.9985071167431516"
      ]
     },
     "execution_count": 6,
     "metadata": {},
     "output_type": "execute_result"
    }
   ],
   "source": [
    "putPrc = euroBinomPricerRecursive(S, K, r, v, q, T, n, putPayoff, verbose = True)\n",
    "putPrc"
   ]
  },
  {
   "cell_type": "markdown",
   "metadata": {},
   "source": [
    "#### Using a Two-Dimensional Array"
   ]
  },
  {
   "cell_type": "code",
   "execution_count": 33,
   "metadata": {},
   "outputs": [],
   "source": [
    "def euroBinomPricerRecursiveMatrix(S, K, r, v, q, T, n, payoff, verbose = True):\n",
    "    nodes = n  + 1\n",
    "    h = T / n\n",
    "    #u = np.exp((r - q) * h + v * np.sqrt(h))\n",
    "    u = 1.3\n",
    "    #d = np.exp((r - q) * h - v * np.sqrt(h))\n",
    "    d = .8\n",
    "    pu = (np.exp((r - q) * h) - d) / (u - d)\n",
    "    pd = 1.0 - pu\n",
    "    disc = np.exp(-r * h)\n",
    "    \n",
    "    ## Arrays to store the spot prices and option values\n",
    "    Ct = np.zeros((nodes, n+1))\n",
    "    St = np.zeros((nodes, n+1))\n",
    "    Dt = np.zeros((nodes, n+1))\n",
    "    Bt = np.zeros((nodes, n+1))\n",
    "    for i in range(nodes):\n",
    "        St[i, n] = S * (u**(n-i)) * (d**i)\n",
    "        Ct[i, n] = payoff(St[i, n], K)\n",
    "    \n",
    "\n",
    "    for t in range((n-1), -1, -1):\n",
    "        for j in range(t+1):\n",
    "            St[j, t] = St[j, t+1] / u\n",
    "            Ct[j, t] = disc * ((pu * Ct[j, t+1]) + (pd * Ct[j+1, t+1]))\n",
    "            Dt[j, t] = np.exp(-q * h) * (Ct[j, t+1] - Ct[j+1, t+1]) / (St[j, t] * (u - d))\n",
    "            Bt[j, t] = np.exp(-r * h) * (((u * Ct[j+1, t+1]) - (d * Ct[j, t+1])) / (u - d))\n",
    "\n",
    "    if verbose:\n",
    "        print(np.around(St, 3))\n",
    "        print(\"\\n\")\n",
    "        print(np.around(Ct, 3))\n",
    "        print(\"\\n\")\n",
    "        print(np.around(Dt, 3))\n",
    "        print(\"\\n\")\n",
    "        print(np.around(Bt, 3))\n",
    "        print(\"\\n\")            \n",
    "            \n",
    "    return Ct[0,0]"
   ]
  },
  {
   "cell_type": "code",
   "execution_count": 34,
   "metadata": {},
   "outputs": [
    {
     "name": "stdout",
     "output_type": "stream",
     "text": [
      "[[41.    53.3   69.29  90.077]\n",
      " [ 0.    32.8   42.64  55.432]\n",
      " [ 0.     0.    26.24  34.112]\n",
      " [ 0.     0.     0.    20.992]]\n",
      "\n",
      "\n",
      "[[ 9.137 17.041 30.343 50.077]\n",
      " [ 0.     3.016  6.823 15.432]\n",
      " [ 0.     0.     0.     0.   ]\n",
      " [ 0.     0.     0.     0.   ]]\n",
      "\n",
      "\n",
      "[[0.684 0.883 1.    0.   ]\n",
      " [0.    0.416 0.724 0.   ]\n",
      " [0.    0.    0.    0.   ]\n",
      " [0.    0.    0.    0.   ]]\n",
      "\n",
      "\n",
      "[[-18.913 -29.999 -38.947   0.   ]\n",
      " [  0.    -10.629 -24.041   0.   ]\n",
      " [  0.      0.      0.      0.   ]\n",
      " [  0.      0.      0.      0.   ]]\n",
      "\n",
      "\n"
     ]
    }
   ],
   "source": [
    "\n",
    "S = 41.0\n",
    "K = 40.0\n",
    "v = 0.30\n",
    "r = 0.08\n",
    "T = 1.0\n",
    "q = 0.0\n",
    "n = 3\n",
    "\n",
    "callPrc = euroBinomPricerRecursiveMatrix(S, K, r, v, q, T, n, callPayoff, verbose = True)"
   ]
  },
  {
   "cell_type": "markdown",
   "metadata": {},
   "source": [
    "### __Problem 1a)__"
   ]
  },
  {
   "cell_type": "code",
   "execution_count": 35,
   "metadata": {},
   "outputs": [
    {
     "name": "stdout",
     "output_type": "stream",
     "text": [
      "[[100. 130.]\n",
      " [  0.  80.]]\n",
      "\n",
      "\n",
      "[[11.568 25.   ]\n",
      " [ 0.     0.   ]]\n",
      "\n",
      "\n",
      "[[0.5 0. ]\n",
      " [0.  0. ]]\n",
      "\n",
      "\n",
      "[[-38.432   0.   ]\n",
      " [  0.      0.   ]]\n",
      "\n",
      "\n"
     ]
    },
    {
     "data": {
      "text/plain": [
       "11.568422433907068"
      ]
     },
     "execution_count": 35,
     "metadata": {},
     "output_type": "execute_result"
    }
   ],
   "source": [
    "#Problem 1a)\n",
    "\n",
    "S = 100.0\n",
    "K = 105.0\n",
    "v = 0.30\n",
    "r = 0.08\n",
    "T = .5\n",
    "q = 0.0\n",
    "n = 1\n",
    "callPrc = euroBinomPricerRecursiveMatrix(S, K, r, v, q, T, n, callPayoff, verbose = True)\n",
    "callPrc "
   ]
  },
  {
   "cell_type": "markdown",
   "metadata": {},
   "source": [
    "### __Problem 1b)__"
   ]
  },
  {
   "cell_type": "code",
   "execution_count": 36,
   "metadata": {},
   "outputs": [
    {
     "name": "stdout",
     "output_type": "stream",
     "text": [
      "[[100. 130.]\n",
      " [  0.  80.]]\n",
      "\n",
      "\n",
      "[[12.451  0.   ]\n",
      " [ 0.    25.   ]]\n",
      "\n",
      "\n",
      "[[-0.5  0. ]\n",
      " [ 0.   0. ]]\n",
      "\n",
      "\n",
      "[[62.451  0.   ]\n",
      " [ 0.     0.   ]]\n",
      "\n",
      "\n"
     ]
    },
    {
     "data": {
      "text/plain": [
       "12.45131354490101"
      ]
     },
     "execution_count": 36,
     "metadata": {},
     "output_type": "execute_result"
    }
   ],
   "source": [
    "#Problem 1b)\n",
    "\n",
    "S = 100.0\n",
    "K = 105.0\n",
    "v = 0.30\n",
    "r = 0.08\n",
    "T = .5\n",
    "q = 0.0\n",
    "n = 1\n",
    "putPrc = euroBinomPricerRecursiveMatrix(S, K, r, v, q, T, n, putPayoff, verbose = True)\n",
    "putPrc"
   ]
  },
  {
   "cell_type": "markdown",
   "metadata": {},
   "source": [
    "### __Problem 2a)__"
   ]
  },
  {
   "cell_type": "code",
   "execution_count": 38,
   "metadata": {},
   "outputs": [
    {
     "name": "stdout",
     "output_type": "stream",
     "text": [
      "[[100. 130.]\n",
      " [  0.  80.]]\n",
      "\n",
      "\n",
      "[[ 7.471  0.   ]\n",
      " [ 0.    15.   ]]\n",
      "\n",
      "\n",
      "[[-0.3  0. ]\n",
      " [ 0.   0. ]]\n",
      "\n",
      "\n",
      "[[37.471  0.   ]\n",
      " [ 0.     0.   ]]\n",
      "\n",
      "\n"
     ]
    },
    {
     "data": {
      "text/plain": [
       "7.470788126940606"
      ]
     },
     "execution_count": 38,
     "metadata": {},
     "output_type": "execute_result"
    }
   ],
   "source": [
    "#Problem 2a)\n",
    "\n",
    "S = 100.0\n",
    "K = 95.0\n",
    "v = 0.30\n",
    "r = 0.08\n",
    "T = .5\n",
    "q = 0.0\n",
    "n = 1\n",
    "putPrc = euroBinomPricerRecursiveMatrix(S, K, r, v, q, T, n, putPayoff, verbose = True)\n",
    "putPrc "
   ]
  },
  {
   "cell_type": "markdown",
   "metadata": {},
   "source": [
    "### __Problem2b)__"
   ]
  },
  {
   "cell_type": "code",
   "execution_count": 39,
   "metadata": {},
   "outputs": [
    {
     "name": "stdout",
     "output_type": "stream",
     "text": [
      "[[100. 130.]\n",
      " [  0.  80.]]\n",
      "\n",
      "\n",
      "[[16.196 35.   ]\n",
      " [ 0.     0.   ]]\n",
      "\n",
      "\n",
      "[[0.7 0. ]\n",
      " [0.  0. ]]\n",
      "\n",
      "\n",
      "[[-53.804   0.   ]\n",
      " [  0.      0.   ]]\n",
      "\n",
      "\n"
     ]
    },
    {
     "data": {
      "text/plain": [
       "16.195791407469894"
      ]
     },
     "execution_count": 39,
     "metadata": {},
     "output_type": "execute_result"
    }
   ],
   "source": [
    "#Problem 2b)\n",
    "\n",
    "S = 100.0\n",
    "K = 95.0\n",
    "v = 0.30\n",
    "r = 0.08\n",
    "T = .5\n",
    "q = 0.0\n",
    "n = 1\n",
    "callPrc = euroBinomPricerRecursiveMatrix(S, K, r, v, q, T, n, callPayoff, verbose = True)\n",
    "callPrc "
   ]
  },
  {
   "cell_type": "markdown",
   "metadata": {},
   "source": [
    "The arbitrage is to observe short on the call price and gain $.81 on the option."
   ]
  },
  {
   "cell_type": "markdown",
   "metadata": {},
   "source": [
    "### __Problem 2c)__"
   ]
  },
  {
   "cell_type": "markdown",
   "metadata": {},
   "source": [
    "The arbitrage is to long the call price and save $.69 on the option."
   ]
  },
  {
   "cell_type": "markdown",
   "metadata": {},
   "source": [
    "### __Problem 3__"
   ]
  },
  {
   "cell_type": "code",
   "execution_count": 41,
   "metadata": {},
   "outputs": [
    {
     "name": "stdout",
     "output_type": "stream",
     "text": [
      "[[100. 130. 169.]\n",
      " [  0.  80. 104.]\n",
      " [  0.   0.  64.]]\n",
      "\n",
      "\n",
      "[[19.994 38.725 74.   ]\n",
      " [ 0.     4.165  9.   ]\n",
      " [ 0.     0.     0.   ]]\n",
      "\n",
      "\n",
      "[[0.691 1.    0.   ]\n",
      " [0.    0.225 0.   ]\n",
      " [0.    0.    0.   ]]\n",
      "\n",
      "\n",
      "[[-49.127 -91.275   0.   ]\n",
      " [  0.    -13.835   0.   ]\n",
      " [  0.      0.      0.   ]]\n",
      "\n",
      "\n"
     ]
    },
    {
     "data": {
      "text/plain": [
       "19.993693459343987"
      ]
     },
     "execution_count": 41,
     "metadata": {},
     "output_type": "execute_result"
    }
   ],
   "source": [
    "#Problem 3)\n",
    "\n",
    "S = 100.0\n",
    "K = 95.0\n",
    "v = 0.30\n",
    "r = 0.08\n",
    "T = 1\n",
    "q = 0.0\n",
    "n = 2\n",
    "callPrc = euroBinomPricerRecursiveMatrix(S, K, r, v, q, T, n, callPayoff, verbose = True)\n",
    "callPrc "
   ]
  },
  {
   "cell_type": "markdown",
   "metadata": {},
   "source": [
    "## __Problem 4__"
   ]
  },
  {
   "cell_type": "markdown",
   "metadata": {},
   "source": [
    "#### __Price $80__"
   ]
  },
  {
   "cell_type": "code",
   "execution_count": 42,
   "metadata": {},
   "outputs": [
    {
     "name": "stdout",
     "output_type": "stream",
     "text": [
      "[[ 80.   104.   135.2  175.76]\n",
      " [  0.    64.    83.2  108.16]\n",
      " [  0.     0.    51.2   66.56]\n",
      " [  0.     0.     0.    40.96]]\n",
      "\n",
      "\n",
      "[[11.081 21.971 42.7   80.76 ]\n",
      " [ 0.     2.572  5.818 13.16 ]\n",
      " [ 0.     0.     0.     0.   ]\n",
      " [ 0.     0.     0.     0.   ]]\n",
      "\n",
      "\n",
      "[[0.485 0.709 1.    0.   ]\n",
      " [0.    0.182 0.316 0.   ]\n",
      " [0.    0.    0.    0.   ]\n",
      " [0.    0.    0.    0.   ]]\n",
      "\n",
      "\n",
      "[[-27.716 -51.793 -92.5     0.   ]\n",
      " [  0.     -9.064 -20.502   0.   ]\n",
      " [  0.      0.      0.      0.   ]\n",
      " [  0.      0.      0.      0.   ]]\n",
      "\n",
      "\n"
     ]
    },
    {
     "data": {
      "text/plain": [
       "11.080555851351969"
      ]
     },
     "execution_count": 42,
     "metadata": {},
     "output_type": "execute_result"
    }
   ],
   "source": [
    "#Problem 4)\n",
    "\n",
    "S = 80.0\n",
    "K = 95.0\n",
    "v = 0.30\n",
    "r = 0.08\n",
    "T = 1\n",
    "q = 0.0\n",
    "n = 3\n",
    "callPrc = euroBinomPricerRecursiveMatrix(S, K, r, v, q, T, n, callPayoff, verbose = True)\n",
    "callPrc "
   ]
  },
  {
   "cell_type": "markdown",
   "metadata": {},
   "source": [
    "### __Price $90__"
   ]
  },
  {
   "cell_type": "code",
   "execution_count": 43,
   "metadata": {},
   "outputs": [
    {
     "name": "stdout",
     "output_type": "stream",
     "text": [
      "[[ 90.   117.   152.1  197.73]\n",
      " [  0.    72.    93.6  121.68]\n",
      " [  0.     0.    57.6   74.88]\n",
      " [  0.     0.     0.    46.08]]\n",
      "\n",
      "\n",
      "[[ 17.193  32.619  59.6   102.73 ]\n",
      " [  0.      5.215  11.795  26.68 ]\n",
      " [  0.      0.      0.      0.   ]\n",
      " [  0.      0.      0.      0.   ]]\n",
      "\n",
      "\n",
      "[[0.609 0.817 1.    0.   ]\n",
      " [0.    0.328 0.57  0.   ]\n",
      " [0.    0.    0.    0.   ]\n",
      " [0.    0.    0.    0.   ]]\n",
      "\n",
      "\n",
      "[[-37.616 -62.99  -92.5     0.   ]\n",
      " [  0.    -18.376 -41.565   0.   ]\n",
      " [  0.      0.      0.      0.   ]\n",
      " [  0.      0.      0.      0.   ]]\n",
      "\n",
      "\n"
     ]
    },
    {
     "data": {
      "text/plain": [
       "17.193212548696497"
      ]
     },
     "execution_count": 43,
     "metadata": {},
     "output_type": "execute_result"
    }
   ],
   "source": [
    "S = 90.0\n",
    "K = 95.0\n",
    "v = 0.30\n",
    "r = 0.08\n",
    "T = 1\n",
    "q = 0.0\n",
    "n = 3\n",
    "callPrc = euroBinomPricerRecursiveMatrix(S, K, r, v, q, T, n, callPayoff, verbose = True)\n",
    "callPrc "
   ]
  },
  {
   "cell_type": "markdown",
   "metadata": {},
   "source": [
    "### __Price $110__"
   ]
  },
  {
   "cell_type": "code",
   "execution_count": 44,
   "metadata": {},
   "outputs": [
    {
     "name": "stdout",
     "output_type": "stream",
     "text": [
      "[[110.   143.   185.9  241.67]\n",
      " [  0.    88.   114.4  148.72]\n",
      " [  0.     0.    70.4   91.52]\n",
      " [  0.     0.     0.    56.32]]\n",
      "\n",
      "\n",
      "[[ 29.419  53.917  93.4   146.67 ]\n",
      " [  0.     10.5    23.75   53.72 ]\n",
      " [  0.      0.      0.      0.   ]\n",
      " [  0.      0.      0.      0.   ]]\n",
      "\n",
      "\n",
      "[[0.789 0.974 1.    0.   ]\n",
      " [0.    0.54  0.939 0.   ]\n",
      " [0.    0.    0.    0.   ]\n",
      " [0.    0.    0.    0.   ]]\n",
      "\n",
      "\n",
      "[[-57.416 -85.383 -92.5     0.   ]\n",
      " [  0.    -37.    -83.69    0.   ]\n",
      " [  0.      0.      0.      0.   ]\n",
      " [  0.      0.      0.      0.   ]]\n",
      "\n",
      "\n"
     ]
    },
    {
     "data": {
      "text/plain": [
       "29.418525943385543"
      ]
     },
     "execution_count": 44,
     "metadata": {},
     "output_type": "execute_result"
    }
   ],
   "source": [
    "S = 110.0\n",
    "K = 95.0\n",
    "v = 0.30\n",
    "r = 0.08\n",
    "T = 1\n",
    "q = 0.0\n",
    "n = 3\n",
    "callPrc = euroBinomPricerRecursiveMatrix(S, K, r, v, q, T, n, callPayoff, verbose = True)\n",
    "callPrc "
   ]
  },
  {
   "cell_type": "markdown",
   "metadata": {},
   "source": [
    "### __Price $120__"
   ]
  },
  {
   "cell_type": "code",
   "execution_count": 45,
   "metadata": {},
   "outputs": [
    {
     "name": "stdout",
     "output_type": "stream",
     "text": [
      "[[120.   156.   202.8  263.64]\n",
      " [  0.    96.   124.8  162.24]\n",
      " [  0.     0.    76.8   99.84]\n",
      " [  0.     0.     0.    61.44]]\n",
      "\n",
      "\n",
      "[[ 37.345  65.934 110.3   168.64 ]\n",
      " [  0.     15.417  32.3    67.24 ]\n",
      " [  0.      0.      2.14    4.84 ]\n",
      " [  0.      0.      0.      0.   ]]\n",
      "\n",
      "\n",
      "[[0.842 1.    1.    0.   ]\n",
      " [0.    0.628 1.    0.   ]\n",
      " [0.    0.    0.126 0.   ]\n",
      " [0.    0.    0.    0.   ]]\n",
      "\n",
      "\n",
      "[[-63.688 -90.066 -92.5     0.   ]\n",
      " [  0.    -44.903 -92.5     0.   ]\n",
      " [  0.      0.     -7.54    0.   ]\n",
      " [  0.      0.      0.      0.   ]]\n",
      "\n",
      "\n"
     ]
    },
    {
     "data": {
      "text/plain": [
       "37.34516043327331"
      ]
     },
     "execution_count": 45,
     "metadata": {},
     "output_type": "execute_result"
    }
   ],
   "source": [
    "S = 120.0\n",
    "K = 95.0\n",
    "v = 0.30\n",
    "r = 0.08\n",
    "T = 1\n",
    "q = 0.0\n",
    "n = 3\n",
    "callPrc = euroBinomPricerRecursiveMatrix(S, K, r, v, q, T, n, callPayoff, verbose = True)\n",
    "callPrc "
   ]
  },
  {
   "cell_type": "markdown",
   "metadata": {},
   "source": [
    "### __Price $130__"
   ]
  },
  {
   "cell_type": "code",
   "execution_count": 46,
   "metadata": {},
   "outputs": [
    {
     "name": "stdout",
     "output_type": "stream",
     "text": [
      "[[130.   169.   219.7  285.61]\n",
      " [  0.   104.   135.2  175.76]\n",
      " [  0.     0.    83.2  108.16]\n",
      " [  0.     0.     0.    66.56]]\n",
      "\n",
      "\n",
      "[[ 46.576  78.934 127.2   190.61 ]\n",
      " [  0.     21.971  42.7    80.76 ]\n",
      " [  0.      0.      5.818  13.16 ]\n",
      " [  0.      0.      0.      0.   ]]\n",
      "\n",
      "\n",
      "[[0.876 1.    1.    0.   ]\n",
      " [0.    0.709 1.    0.   ]\n",
      " [0.    0.    0.316 0.   ]\n",
      " [0.    0.    0.    0.   ]]\n",
      "\n",
      "\n",
      "[[-67.351 -90.066 -92.5     0.   ]\n",
      " [  0.    -51.793 -92.5     0.   ]\n",
      " [  0.      0.    -20.502   0.   ]\n",
      " [  0.      0.      0.      0.   ]]\n",
      "\n",
      "\n"
     ]
    },
    {
     "data": {
      "text/plain": [
       "46.57605994755165"
      ]
     },
     "execution_count": 46,
     "metadata": {},
     "output_type": "execute_result"
    }
   ],
   "source": [
    "S = 130.0\n",
    "K = 95.0\n",
    "v = 0.30\n",
    "r = 0.08\n",
    "T = 1\n",
    "q = 0.0\n",
    "n = 3\n",
    "callPrc = euroBinomPricerRecursiveMatrix(S, K, r, v, q, T, n, callPayoff, verbose = True)\n",
    "callPrc "
   ]
  },
  {
   "cell_type": "markdown",
   "metadata": {},
   "source": [
    "Delta increases at a decreasing rate as the spot price increases. "
   ]
  },
  {
   "cell_type": "markdown",
   "metadata": {},
   "source": [
    "## __Problem 5__"
   ]
  },
  {
   "cell_type": "markdown",
   "metadata": {},
   "source": [
    "#### __A)__"
   ]
  },
  {
   "cell_type": "code",
   "execution_count": 49,
   "metadata": {},
   "outputs": [],
   "source": [
    "def euroBinomPricerRecursiveMatrix1(S, K, r, v, q, T, n, payoff, verbose = True):\n",
    "    nodes = n  + 1\n",
    "    h = T / n\n",
    "    u = np.exp((r - q) * h + v * np.sqrt(h))\n",
    "    #u = 1.3\n",
    "    d = np.exp((r - q) * h - v * np.sqrt(h))\n",
    "    #d = .8\n",
    "    pu = (np.exp((r - q) * h) - d) / (u - d)\n",
    "    pd = 1.0 - pu\n",
    "    disc = np.exp(-r * h)\n",
    "    \n",
    "    ## Arrays to store the spot prices and option values\n",
    "    Ct = np.zeros((nodes, n+1))\n",
    "    St = np.zeros((nodes, n+1))\n",
    "    Dt = np.zeros((nodes, n+1))\n",
    "    Bt = np.zeros((nodes, n+1))\n",
    "    for i in range(nodes):\n",
    "        St[i, n] = S * (u**(n-i)) * (d**i)\n",
    "        Ct[i, n] = payoff(St[i, n], K)\n",
    "    \n",
    "\n",
    "    for t in range((n-1), -1, -1):\n",
    "        for j in range(t+1):\n",
    "            St[j, t] = St[j, t+1] / u\n",
    "            Ct[j, t] = disc * ((pu * Ct[j, t+1]) + (pd * Ct[j+1, t+1]))\n",
    "            Dt[j, t] = np.exp(-q * h) * (Ct[j, t+1] - Ct[j+1, t+1]) / (St[j, t] * (u - d))\n",
    "            Bt[j, t] = np.exp(-r * h) * (((u * Ct[j+1, t+1]) - (d * Ct[j, t+1])) / (u - d))\n",
    "\n",
    "    if verbose:\n",
    "        print(np.around(St, 3))\n",
    "        print(\"\\n\")\n",
    "        print(np.around(Ct, 3))\n",
    "        print(\"\\n\")\n",
    "        print(np.around(Dt, 3))\n",
    "        print(\"\\n\")\n",
    "        print(np.around(Bt, 3))\n",
    "        print(\"\\n\")            \n",
    "            \n",
    "    return Ct[0,0]"
   ]
  },
  {
   "cell_type": "code",
   "execution_count": 50,
   "metadata": {},
   "outputs": [
    {
     "name": "stdout",
     "output_type": "stream",
     "text": [
      "[[100.    122.125 149.144 182.142]\n",
      " [  0.     86.369 105.478 128.815]\n",
      " [  0.      0.     74.596  91.101]\n",
      " [  0.      0.      0.     64.428]]\n",
      "\n",
      "\n",
      "[[18.283 33.149 56.644 87.142]\n",
      " [ 0.     6.69  15.04  33.815]\n",
      " [ 0.     0.     0.     0.   ]\n",
      " [ 0.     0.     0.     0.   ]]\n",
      "\n",
      "\n",
      "[[0.74  0.953 1.    0.   ]\n",
      " [0.    0.487 0.897 0.   ]\n",
      " [0.    0.    0.    0.   ]\n",
      " [0.    0.    0.    0.   ]]\n",
      "\n",
      "\n",
      "[[-55.719 -83.207 -92.5     0.   ]\n",
      " [  0.    -35.375 -79.532   0.   ]\n",
      " [  0.      0.      0.      0.   ]\n",
      " [  0.      0.      0.      0.   ]]\n",
      "\n",
      "\n"
     ]
    },
    {
     "data": {
      "text/plain": [
       "18.28255220737056"
      ]
     },
     "execution_count": 50,
     "metadata": {},
     "output_type": "execute_result"
    }
   ],
   "source": [
    "S = 100.0\n",
    "K = 95.0\n",
    "v = 0.30\n",
    "r = 0.08\n",
    "T = 1\n",
    "q = 0.0\n",
    "n = 3\n",
    "callPrc = euroBinomPricerRecursiveMatrix(S, K, r, v, q, T, n, callPayoff, verbose = True)\n",
    "callPrc "
   ]
  },
  {
   "cell_type": "markdown",
   "metadata": {},
   "source": [
    "No excercise on the option"
   ]
  },
  {
   "cell_type": "markdown",
   "metadata": {},
   "source": [
    "### __B)__"
   ]
  },
  {
   "cell_type": "code",
   "execution_count": 51,
   "metadata": {},
   "outputs": [
    {
     "name": "stdout",
     "output_type": "stream",
     "text": [
      "[[100.    122.125 149.144 182.142]\n",
      " [  0.     86.369 105.478 128.815]\n",
      " [  0.      0.     74.596  91.101]\n",
      " [  0.      0.      0.     64.428]]\n",
      "\n",
      "\n",
      "[[18.283 33.149 56.644 87.142]\n",
      " [ 0.     6.69  15.04  33.815]\n",
      " [ 0.     0.     0.     0.   ]\n",
      " [ 0.     0.     0.     0.   ]]\n",
      "\n",
      "\n",
      "[[0.74  0.953 1.    0.   ]\n",
      " [0.    0.487 0.897 0.   ]\n",
      " [0.    0.    0.    0.   ]\n",
      " [0.    0.    0.    0.   ]]\n",
      "\n",
      "\n",
      "[[-55.719 -83.207 -92.5     0.   ]\n",
      " [  0.    -35.375 -79.532   0.   ]\n",
      " [  0.      0.      0.      0.   ]\n",
      " [  0.      0.      0.      0.   ]]\n",
      "\n",
      "\n"
     ]
    },
    {
     "data": {
      "text/plain": [
       "18.28255220737056"
      ]
     },
     "execution_count": 51,
     "metadata": {},
     "output_type": "execute_result"
    }
   ],
   "source": [
    "S = 100.0\n",
    "K = 95.0\n",
    "v = 0.30\n",
    "r = 0.08\n",
    "T = 1\n",
    "q = 0.0\n",
    "n = 3\n",
    "callPrc = euroBinomPricerRecursiveMatrix(S, K, r, v, q, T, n, callPayoff, verbose = True)\n",
    "callPrc "
   ]
  },
  {
   "cell_type": "markdown",
   "metadata": {},
   "source": [
    "### __C)__"
   ]
  },
  {
   "cell_type": "code",
   "execution_count": 52,
   "metadata": {},
   "outputs": [
    {
     "name": "stdout",
     "output_type": "stream",
     "text": [
      "[[100.    122.125 149.144 182.142]\n",
      " [  0.     86.369 105.478 128.815]\n",
      " [  0.      0.     74.596  91.101]\n",
      " [  0.      0.      0.     64.428]]\n",
      "\n",
      "\n",
      "[[ 5.979  1.091  0.     0.   ]\n",
      " [ 0.    10.387  2.062  0.   ]\n",
      " [ 0.     0.    17.904  3.899]\n",
      " [ 0.     0.     0.    30.572]]\n",
      "\n",
      "\n",
      "[[-0.26  -0.047  0.     0.   ]\n",
      " [ 0.    -0.513 -0.103  0.   ]\n",
      " [ 0.     0.    -1.     0.   ]\n",
      " [ 0.     0.     0.     0.   ]]\n",
      "\n",
      "\n",
      "[[31.977  6.859  0.     0.   ]\n",
      " [ 0.    54.691 12.968  0.   ]\n",
      " [ 0.     0.    92.5    0.   ]\n",
      " [ 0.     0.     0.     0.   ]]\n",
      "\n",
      "\n"
     ]
    },
    {
     "data": {
      "text/plain": [
       "5.97860511410097"
      ]
     },
     "execution_count": 52,
     "metadata": {},
     "output_type": "execute_result"
    }
   ],
   "source": [
    "S = 100.0\n",
    "K = 95.0\n",
    "v = 0.30\n",
    "r = 0.08\n",
    "T = 1\n",
    "q = 0.0\n",
    "n = 3\n",
    "putPrc = euroBinomPricerRecursiveMatrix(S, K, r, v, q, T, n, putPayoff, verbose = True)\n",
    "putPrc "
   ]
  },
  {
   "cell_type": "code",
   "execution_count": 58,
   "metadata": {},
   "outputs": [
    {
     "data": {
      "text/plain": [
       "12.3039470932696"
      ]
     },
     "execution_count": 58,
     "metadata": {},
     "output_type": "execute_result"
    }
   ],
   "source": [
    "parity = S - (K * np.exp(-r*T))\n",
    "parity"
   ]
  },
  {
   "cell_type": "code",
   "execution_count": 64,
   "metadata": {},
   "outputs": [
    {
     "data": {
      "text/plain": [
       "12.30394709326959"
      ]
     },
     "execution_count": 64,
     "metadata": {},
     "output_type": "execute_result"
    }
   ],
   "source": [
    "parity1 = callPrc - putPrc\n",
    "parity1"
   ]
  },
  {
   "cell_type": "markdown",
   "metadata": {},
   "source": [
    "Put-call parity will hold."
   ]
  },
  {
   "cell_type": "markdown",
   "metadata": {},
   "source": [
    "### __D)__"
   ]
  },
  {
   "cell_type": "code",
   "execution_count": 72,
   "metadata": {},
   "outputs": [],
   "source": [
    "\n",
    "def euroBinomPricerRecursive(S, K, r, v, q, T, n, payoff, verbose = False):\n",
    "    nodes = n  + 1\n",
    "    h = T / n\n",
    "    u = np.exp((r - q) * h + v * np.sqrt(h))\n",
    "    d = np.exp((r - q) * h - v * np.sqrt(h))\n",
    "    pu = (np.exp((r - q) * h) - d) / (u - d)\n",
    "    pd = 1.0 - pu\n",
    "    disc = np.exp(-r * h)\n",
    "   \n",
    "   \n",
    "   ## Arrays to store the spot prices and option values\n",
    "    Ct = np.empty(nodes)\n",
    "    St = np.empty(nodes)\n",
    "   \n",
    "    for i in range(nodes):\n",
    "        St[i] = S * (u ** (n - i)) * (d ** i)\n",
    "        Ct[i] = payoff(St[i], K)\n",
    "   \n",
    "    if verbose:\n",
    "        print(Ct)\n",
    "       \n",
    "    for t in range((n - 1), -1, -1):\n",
    "        for j in range(t+1):\n",
    "            Ct[j] = disc * (pu * Ct[j] + pd * Ct[j+1])\n",
    "            St[j] = St[j] / u\n",
    "            Ct[j] = np.maximum(Ct[j], K - St[j])\n",
    "            print(Ct)\n",
    "           \n",
    "    return Ct[0]\n",
    "def euroBinomPricerRecursiveMatrix(S, K, r, v, q, T, n, payoff, verbose = False):\n",
    "    nodes = n  + 1\n",
    "    h = T / n\n",
    "    u = np.exp((r - q) * h + v * np.sqrt(h))\n",
    "    d = np.exp((r - q) * h - v * np.sqrt(h))\n",
    "    pu = (np.exp((r - q) * h) - d) / (u - d)\n",
    "    pd = 1.0 - pu\n",
    "    disc = np.exp(-r * h)\n",
    "   \n",
    "   ## Arrays to store the spot prices and option values\n",
    "    Ct = np.zeros((nodes, n+1))\n",
    "    St = np.zeros((nodes, n+1))\n",
    "    Dt = np.zeros((nodes, n+1))\n",
    "   \n",
    "    for i in range(nodes):\n",
    "        St[i, n] = S * (u**(n-i)) * (d**i)\n",
    "        Ct[i, n] = payoff(St[i, n], K)\n",
    "   \n",
    "\n",
    "    for t in range((n-1), -1, -1):\n",
    "        for j in range(t+1):\n",
    "            St[j, t] = St[j, t+1] / u\n",
    "            Ct[j, t] = disc * ((pu * Ct[j, t+1]) + (pd * Ct[j+1, t+1]))\n",
    "            Dt[j, t] = np.exp(-q * h) * (Ct[j, t+1] - Ct[j+1, t+1]) / (St[j, t] * (u - d))\n",
    "         \n",
    "    return Ct[0,0]"
   ]
  },
  {
   "cell_type": "code",
   "execution_count": 73,
   "metadata": {},
   "outputs": [],
   "source": [
    "S = 100\n",
    "K = 95\n",
    "r = 0.08\n",
    "v = 0.30\n",
    "q = 0.0\n",
    "T = 1\n",
    "n = 3"
   ]
  },
  {
   "cell_type": "code",
   "execution_count": 74,
   "metadata": {},
   "outputs": [
    {
     "name": "stdout",
     "output_type": "stream",
     "text": [
      "[56.64406241 33.8147424   0.          0.        ]\n",
      "[56.64406241 15.04032855  0.          0.        ]\n",
      "[56.64406241 15.04032855 20.40351726  0.        ]\n",
      "[33.14931753 15.04032855 20.40351726  0.        ]\n",
      "[33.14931753 17.48114202 20.40351726  0.        ]\n",
      "[23.99012609 17.48114202 20.40351726  0.        ]\n",
      "[ 0.          0.          3.89933488 30.57157332]\n",
      "[ 0.          2.06235672  3.89933488 30.57157332]\n",
      "[ 0.          2.06235672 20.40351726 30.57157332]\n",
      "[ 1.09077967  2.06235672 20.40351726 30.57157332]\n",
      "[ 1.09077967 11.7087201  20.40351726 30.57157332]\n",
      "[ 6.67790123 11.7087201  20.40351726 30.57157332]\n",
      "The European Call Premium:  18.283 The American call is  18.283\n",
      "The European Put Premium:  5.979 The American put is  6.678\n"
     ]
    }
   ],
   "source": [
    "callPrcA = euroBinomPricerRecursive(S, K, r, v, q, T, n, callPayoff,  verbose = False)\n",
    "callPrcE = euroBinomPricerRecursiveMatrix(S, K, r, v, q, T, n, callPayoff,  verbose = False)\n",
    "putPrcA = euroBinomPricerRecursive(S, K, r, v, q, T, n, putPayoff,  verbose = False)\n",
    "putPrcE = euroBinomPricerRecursiveMatrix(S, K, r, v, q, T, n, putPayoff,  verbose = False)\n",
    "\n",
    "print(f\"The European Call Premium: {callPrcE : 0.3f} The American call is {callPrcE : 0.3f}\")\n",
    "print(f\"The European Put Premium: {putPrcE : 0.3f} The American put is {putPrcA : 0.3f}\")"
   ]
  },
  {
   "cell_type": "markdown",
   "metadata": {},
   "source": [
    "## __Problem 6__"
   ]
  },
  {
   "cell_type": "markdown",
   "metadata": {},
   "source": [
    "### __A)__"
   ]
  },
  {
   "cell_type": "code",
   "execution_count": 77,
   "metadata": {},
   "outputs": [],
   "source": [
    "S = 40\n",
    "K = 40\n",
    "r = 0.08\n",
    "v = 0.30\n",
    "q = 0.0\n",
    "T = .5\n",
    "n = 3\n",
    "h = T / n"
   ]
  },
  {
   "cell_type": "code",
   "execution_count": 78,
   "metadata": {},
   "outputs": [
    {
     "name": "stdout",
     "output_type": "stream",
     "text": [
      "1.1454617381452392 0.8966038495199921\n"
     ]
    }
   ],
   "source": [
    "u1 = np.exp((r - q) * h + v * np.sqrt(h))\n",
    "d1 = np.exp((r - q) * h - v * np.sqrt(h))\n",
    "print(u1,d1)"
   ]
  },
  {
   "cell_type": "markdown",
   "metadata": {},
   "source": [
    "### __B)__"
   ]
  },
  {
   "cell_type": "code",
   "execution_count": 80,
   "metadata": {},
   "outputs": [
    {
     "name": "stdout",
     "output_type": "stream",
     "text": [
      "[13.01309727  7.05673217  0.          0.        ]\n",
      "[13.01309727  3.26869392  0.          0.        ]\n",
      "[13.01309727  3.26869392  7.84406148  0.        ]\n",
      "[7.73902974 3.26869392 7.84406148 0.        ]\n",
      "[7.73902974 5.6208478  7.84406148 0.        ]\n",
      "[6.52754713 5.6208478  7.84406148 0.        ]\n",
      "[ 0.          0.          3.16660277 11.16886174]\n",
      "[ 0.          1.65788424  3.16660277 11.16886174]\n",
      "[ 0.          1.65788424  7.84406148 11.16886174]\n",
      "[ 0.86799019  1.65788424  7.84406148 11.16886174]\n",
      "[ 0.86799019  4.8747172   7.84406148 11.16886174]\n",
      "[ 2.95422756  4.8747172   7.84406148 11.16886174]\n",
      "The European Call Premium:  4.377 The American call is  4.377\n",
      "The European Put Premium:  2.809 The American put is  2.954\n"
     ]
    }
   ],
   "source": [
    "callPrcA = euroBinomPricerRecursive(S, K, r, v, q, T, n, callPayoff,  verbose = False)\n",
    "callPrcE = euroBinomPricerRecursiveMatrix(S, K, r, v, q, T, n, callPayoff,  verbose = False)\n",
    "putPrcA = euroBinomPricerRecursive(S, K, r, v, q, T, n, putPayoff,  verbose = False)\n",
    "putPrcE = euroBinomPricerRecursiveMatrix(S, K, r, v, q, T, n, putPayoff,  verbose = False)\n",
    "\n",
    "print(f\"The European Call Premium: {callPrcE : 0.3f} The American call is {callPrcE : 0.3f}\")\n",
    "print(f\"The European Put Premium: {putPrcE : 0.3f} The American put is {putPrcA : 0.3f}\")"
   ]
  },
  {
   "cell_type": "code",
   "execution_count": null,
   "metadata": {},
   "outputs": [],
   "source": []
  }
 ],
 "metadata": {
  "kernelspec": {
   "display_name": "Python 3",
   "language": "python",
   "name": "python3"
  },
  "language_info": {
   "codemirror_mode": {
    "name": "ipython",
    "version": 3
   },
   "file_extension": ".py",
   "mimetype": "text/x-python",
   "name": "python",
   "nbconvert_exporter": "python",
   "pygments_lexer": "ipython3",
   "version": "3.6.5"
  }
 },
 "nbformat": 4,
 "nbformat_minor": 2
}
